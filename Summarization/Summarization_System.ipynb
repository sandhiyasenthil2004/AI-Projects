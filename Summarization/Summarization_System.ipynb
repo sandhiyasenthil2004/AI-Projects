{
  "nbformat": 4,
  "nbformat_minor": 0,
  "metadata": {
    "colab": {
      "provenance": []
    },
    "kernelspec": {
      "name": "python3",
      "display_name": "Python 3"
    },
    "language_info": {
      "name": "python"
    }
  },
  "cells": [
    {
      "cell_type": "code",
      "execution_count": null,
      "metadata": {
        "colab": {
          "base_uri": "https://localhost:8080/"
        },
        "id": "swDXo7Yjj2Oq",
        "outputId": "90ffd28c-53eb-4b15-8347-0c5e30079618"
      },
      "outputs": [
        {
          "output_type": "stream",
          "name": "stdout",
          "text": [
            "Collecting pymupdf\n",
            "  Downloading PyMuPDF-1.24.14-cp39-abi3-manylinux2014_x86_64.manylinux_2_17_x86_64.whl.metadata (3.4 kB)\n",
            "Requirement already satisfied: transformers in /usr/local/lib/python3.10/dist-packages (4.46.2)\n",
            "Requirement already satisfied: torch in /usr/local/lib/python3.10/dist-packages (2.5.1+cu121)\n",
            "Requirement already satisfied: torchvision in /usr/local/lib/python3.10/dist-packages (0.20.1+cu121)\n",
            "Requirement already satisfied: torchaudio in /usr/local/lib/python3.10/dist-packages (2.5.1+cu121)\n",
            "Requirement already satisfied: filelock in /usr/local/lib/python3.10/dist-packages (from transformers) (3.16.1)\n",
            "Requirement already satisfied: huggingface-hub<1.0,>=0.23.2 in /usr/local/lib/python3.10/dist-packages (from transformers) (0.26.2)\n",
            "Requirement already satisfied: numpy>=1.17 in /usr/local/lib/python3.10/dist-packages (from transformers) (1.26.4)\n",
            "Requirement already satisfied: packaging>=20.0 in /usr/local/lib/python3.10/dist-packages (from transformers) (24.2)\n",
            "Requirement already satisfied: pyyaml>=5.1 in /usr/local/lib/python3.10/dist-packages (from transformers) (6.0.2)\n",
            "Requirement already satisfied: regex!=2019.12.17 in /usr/local/lib/python3.10/dist-packages (from transformers) (2024.9.11)\n",
            "Requirement already satisfied: requests in /usr/local/lib/python3.10/dist-packages (from transformers) (2.32.3)\n",
            "Requirement already satisfied: safetensors>=0.4.1 in /usr/local/lib/python3.10/dist-packages (from transformers) (0.4.5)\n",
            "Requirement already satisfied: tokenizers<0.21,>=0.20 in /usr/local/lib/python3.10/dist-packages (from transformers) (0.20.3)\n",
            "Requirement already satisfied: tqdm>=4.27 in /usr/local/lib/python3.10/dist-packages (from transformers) (4.66.6)\n",
            "Requirement already satisfied: typing-extensions>=4.8.0 in /usr/local/lib/python3.10/dist-packages (from torch) (4.12.2)\n",
            "Requirement already satisfied: networkx in /usr/local/lib/python3.10/dist-packages (from torch) (3.4.2)\n",
            "Requirement already satisfied: jinja2 in /usr/local/lib/python3.10/dist-packages (from torch) (3.1.4)\n",
            "Requirement already satisfied: fsspec in /usr/local/lib/python3.10/dist-packages (from torch) (2024.10.0)\n",
            "Requirement already satisfied: sympy==1.13.1 in /usr/local/lib/python3.10/dist-packages (from torch) (1.13.1)\n",
            "Requirement already satisfied: mpmath<1.4,>=1.1.0 in /usr/local/lib/python3.10/dist-packages (from sympy==1.13.1->torch) (1.3.0)\n",
            "Requirement already satisfied: pillow!=8.3.*,>=5.3.0 in /usr/local/lib/python3.10/dist-packages (from torchvision) (11.0.0)\n",
            "Requirement already satisfied: MarkupSafe>=2.0 in /usr/local/lib/python3.10/dist-packages (from jinja2->torch) (3.0.2)\n",
            "Requirement already satisfied: charset-normalizer<4,>=2 in /usr/local/lib/python3.10/dist-packages (from requests->transformers) (3.4.0)\n",
            "Requirement already satisfied: idna<4,>=2.5 in /usr/local/lib/python3.10/dist-packages (from requests->transformers) (3.10)\n",
            "Requirement already satisfied: urllib3<3,>=1.21.1 in /usr/local/lib/python3.10/dist-packages (from requests->transformers) (2.2.3)\n",
            "Requirement already satisfied: certifi>=2017.4.17 in /usr/local/lib/python3.10/dist-packages (from requests->transformers) (2024.8.30)\n",
            "Downloading PyMuPDF-1.24.14-cp39-abi3-manylinux2014_x86_64.manylinux_2_17_x86_64.whl (19.8 MB)\n",
            "\u001b[2K   \u001b[90m━━━━━━━━━━━━━━━━━━━━━━━━━━━━━━━━━━━━━━━━\u001b[0m \u001b[32m19.8/19.8 MB\u001b[0m \u001b[31m61.2 MB/s\u001b[0m eta \u001b[36m0:00:00\u001b[0m\n",
            "\u001b[?25hInstalling collected packages: pymupdf\n",
            "Successfully installed pymupdf-1.24.14\n",
            "Requirement already satisfied: PyMuPDF in /usr/local/lib/python3.10/dist-packages (1.24.14)\n"
          ]
        }
      ],
      "source": [
        "!pip install pymupdf transformers torch torchvision torchaudio\n",
        "!pip install PyMuPDF\n"
      ]
    },
    {
      "cell_type": "code",
      "source": [
        "import fitz\n",
        "from transformers import BartForConditionalGeneration, BartTokenizer\n",
        "import textwrap\n",
        "\n",
        "\n",
        "def extract_text_from_pdf(pdf_path):\n",
        "    #Extract text from a PDF file.\n",
        "    try:\n",
        "        doc = fitz.open(pdf_path)\n",
        "        text = \"\"\n",
        "        for page_num in range(doc.page_count):\n",
        "            page = doc[page_num]\n",
        "            text += page.get_text()\n",
        "        doc.close()\n",
        "        return text\n",
        "    except Exception as e:\n",
        "        print(f\"Error extracting text from PDF: {e}\")\n",
        "        return \"\"\n",
        "\n",
        "def text_summarizer_from_pdf(pdf_path):\n",
        "    #Summarize the text extracted from a PDF file.\n",
        "    pdf_text = extract_text_from_pdf(pdf_path)\n",
        "    if not pdf_text:\n",
        "        return \"No text extracted from PDF.\"\n",
        "\n",
        "    model_name = \"facebook/bart-large-cnn\"\n",
        "    try:\n",
        "        model = BartForConditionalGeneration.from_pretrained(model_name)\n",
        "        tokenizer = BartTokenizer.from_pretrained(model_name)\n",
        "    except Exception as e:\n",
        "        print(f\"Error loading model: {e}\")\n",
        "        return \"Model loading failed.\"\n",
        "\n",
        "    inputs = tokenizer.encode(\"summarize: \" + pdf_text, return_tensors=\"pt\", max_length=1024, truncation=True)\n",
        "    summary_ids = model.generate(inputs, max_length=150, min_length=50, length_penalty=2.0, num_beams=4, early_stopping=True)\n",
        "\n",
        "    summary = tokenizer.decode(summary_ids[0], skip_special_tokens=True)\n",
        "    formatted_summary = \"\\n\".join(textwrap.wrap(summary, width=80))\n",
        "    return formatted_summary\n",
        "\n",
        "def save_summary_as_pdf(pdf_path, summary):\n",
        "    #Save the summary as a new PDF file.\n",
        "    try:\n",
        "        doc = fitz.open()\n",
        "        page = doc.new_page()\n",
        "        page.insert_text((10, 100), summary, fontname=\"helv\", fontsize=12)  # Adjust the vertical position as needed\n",
        "\n",
        "        output_pdf_path = pdf_path.replace(\".pdf\", \"_summary.pdf\")\n",
        "        doc.save(output_pdf_path)\n",
        "        doc.close()\n",
        "        return output_pdf_path\n",
        "    except Exception as e:\n",
        "        print(f\"Error saving summary as PDF: {e}\")\n",
        "        return \"\"\n",
        "\n",
        "# Main execution\n",
        "pdf_file_path = r\"/content/Paper1131_NikitaAhire_summary.pdf\"\n",
        "summary = text_summarizer_from_pdf(pdf_file_path)\n",
        "print(\"\\n--- Generated Summary ---\\n\")\n",
        "print(summary)\n",
        "output_pdf_path = save_summary_as_pdf(pdf_file_path, summary)\n",
        "print()\n",
        "print(\"Summary saved as PDF:\", output_pdf_path)"
      ],
      "metadata": {
        "colab": {
          "base_uri": "https://localhost:8080/"
        },
        "id": "4PSSyl4Fksox",
        "outputId": "54f3cdd7-c947-48cc-ee91-cc7aea865897"
      },
      "execution_count": 5,
      "outputs": [
        {
          "output_type": "stream",
          "name": "stdout",
          "text": [
            "\n",
            "--- Generated Summary ---\n",
            "\n",
            "summarize: No text extracted from PDF. Use the weekly Newsquiz to test your\n",
            "knowledge of stories you saw on CNN.com and CNN iReport.com. Today's Daily\n",
            "Discussion includes the latest news stories from CNN and CNN Tech.\n",
            "\n",
            "Summary saved as PDF: /content/Paper1131_NikitaAhire_summary_summary.pdf\n"
          ]
        }
      ]
    }
  ]
}