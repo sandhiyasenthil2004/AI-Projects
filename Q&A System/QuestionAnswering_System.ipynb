{
  "nbformat": 4,
  "nbformat_minor": 0,
  "metadata": {
    "colab": {
      "provenance": []
    },
    "kernelspec": {
      "name": "python3",
      "display_name": "Python 3"
    },
    "language_info": {
      "name": "python"
    }
  },
  "cells": [
    {
      "cell_type": "code",
      "execution_count": null,
      "metadata": {
        "colab": {
          "base_uri": "https://localhost:8080/"
        },
        "id": "hWOwRNmqWNGS",
        "outputId": "72ff17e3-0515-4b0d-91de-e3f4f0d21611"
      },
      "outputs": [
        {
          "output_type": "stream",
          "name": "stderr",
          "text": [
            "Some weights of the model checkpoint at bert-large-uncased-whole-word-masking-finetuned-squad were not used when initializing BertForQuestionAnswering: ['bert.pooler.dense.bias', 'bert.pooler.dense.weight']\n",
            "- This IS expected if you are initializing BertForQuestionAnswering from the checkpoint of a model trained on another task or with another architecture (e.g. initializing a BertForSequenceClassification model from a BertForPreTraining model).\n",
            "- This IS NOT expected if you are initializing BertForQuestionAnswering from the checkpoint of a model that you expect to be exactly identical (initializing a BertForSequenceClassification model from a BertForSequenceClassification model).\n"
          ]
        },
        {
          "output_type": "stream",
          "name": "stdout",
          "text": [
            "Cosine Similarity for Question: 'How many pretrained models are available in Transformers?' with Passage: 'Transformers has over 32+ pretrained models in 100+ languages.' is 0.7704507112503052\n",
            "Question: How many pretrained models are available in Transformers?\n",
            "Retrieved Passage: Transformers has over 32+ pretrained models in 100+ languages.\n",
            "Answer: over 32\n",
            "\n",
            "Cosine Similarity for Question: 'can we use transformers for sentiment analysis?' with Passage: 'Transformers provides general-purpose architectures (BERT, GPT-2, RoBERTa, XLM, DistilBert, XLNet…) for Natural Language Understanding (NLU) and Natural Language Generation (NLG).' is 0.5176990628242493\n",
            "Question: can we use transformers for sentiment analysis?\n",
            "Retrieved Passage: Transformers provides general-purpose architectures (BERT, GPT-2, RoBERTa, XLM, DistilBert, XLNet…) for Natural Language Understanding (NLU) and Natural Language Generation (NLG).\n",
            "Answer: transformers provides general - purpose architectures ( bert, gpt - 2, roberta, xlm, distilbert, xlnet … ) for natural language understanding ( nlu ) and natural language generation ( nlg ).\n",
            "\n",
            "Cosine Similarity for Question: 'Transformers provides interoperability between which frameworks?' with Passage: 'Transformers allows interoperability between TensorFlow 2.0 and PyTorch.' is 0.5592976808547974\n",
            "Question: Transformers provides interoperability between which frameworks?\n",
            "Retrieved Passage: Transformers allows interoperability between TensorFlow 2.0 and PyTorch.\n",
            "Answer: tensorflow 2. 0 and pytorch\n",
            "\n",
            "Cosine Similarity for Question: 'What is the size of the Transformers models?' with Passage: 'Transformers has over 32+ pretrained models in 100+ languages.' is 0.5516696572303772\n",
            "Question: What is the size of the Transformers models?\n",
            "Retrieved Passage: Transformers has over 32+ pretrained models in 100+ languages.\n",
            "Answer: over 32 + pretrained models\n",
            "\n",
            "Cosine Similarity for Question: 'What is the capital of Czech Republic?' with Passage: 'Transformers has over 32+ pretrained models in 100+ languages.' is 0.07588653266429901\n",
            "Question: What is the capital of Czech Republic?\n",
            "Sorry, I couldn't find a relevant passage.\n",
            "\n"
          ]
        }
      ],
      "source": [
        "from transformers import AutoTokenizer, AutoModelForQuestionAnswering\n",
        "from sentence_transformers import SentenceTransformer, util\n",
        "import torch\n",
        "\n",
        "# Load tokenizer and model for question answering\n",
        "tokenizer = AutoTokenizer.from_pretrained(\"bert-large-uncased-whole-word-masking-finetuned-squad\")\n",
        "model = AutoModelForQuestionAnswering.from_pretrained(\"bert-large-uncased-whole-word-masking-finetuned-squad\")\n",
        "\n",
        "# Load Sentence-BERT model for dense retrieval\n",
        "retriever = SentenceTransformer('all-MiniLM-L6-v2')\n",
        "\n",
        "# Define the text corpus for retrieval\n",
        "corpus = [\n",
        "    \"Transformers provides general-purpose architectures (BERT, GPT-2, RoBERTa, XLM, DistilBert, XLNet…) for Natural Language Understanding (NLU) and Natural Language Generation (NLG).\",\n",
        "    \"Transformers has over 32+ pretrained models in 100+ languages.\",\n",
        "    \"Transformers allows interoperability between TensorFlow 2.0 and PyTorch.\",\n",
        "]\n",
        "\n",
        "# Encode the corpus once using the retriever model\n",
        "corpus_embeddings = retriever.encode(corpus, convert_to_tensor=True)\n",
        "\n",
        "# List of questions\n",
        "questions = [\n",
        "    \"How many pretrained models are available in Transformers?\",\n",
        "    \"can we use transformers for sentiment analysis?\",\n",
        "    \"Transformers provides interoperability between which frameworks?\",\n",
        "    \"What is the size of the Transformers models?\",\n",
        "    \"What is the capital of Czech Republic?\",\n",
        "]\n",
        "\n",
        "# Iterate over each question\n",
        "for question in questions:\n",
        "    # Generate the embedding for the question\n",
        "    question_embedding = retriever.encode(question, convert_to_tensor=True)\n",
        "\n",
        "    # Compute cosine similarities between the question and the corpus\n",
        "    similarities = util.pytorch_cos_sim(question_embedding, corpus_embeddings)[0]\n",
        "\n",
        "    # Find the index of the most relevant passage\n",
        "    most_relevant_idx = torch.argmax(similarities)\n",
        "    passage = corpus[most_relevant_idx]\n",
        "\n",
        "    # Print the similarity value for debugging\n",
        "    print(f\"Cosine Similarity for Question: '{question}' with Passage: '{passage}' is {similarities[most_relevant_idx]}\")\n",
        "\n",
        "    # If the cosine similarity is below a threshold, consider it irrelevant\n",
        "    if similarities[most_relevant_idx] < 0.3:  # Lowered threshold\n",
        "        print(f\"Question: {question}\")\n",
        "        print(\"Sorry, I couldn't find a relevant passage.\\n\")\n",
        "        continue\n",
        "\n",
        "    # Tokenize input question and the retrieved passage\n",
        "    inputs = tokenizer.encode_plus(question, passage, add_special_tokens=True, return_tensors=\"pt\")\n",
        "\n",
        "    # Get the input_ids\n",
        "    input_ids = inputs[\"input_ids\"].tolist()[0]\n",
        "\n",
        "    # Get the start and end logits from the model\n",
        "    outputs = model(**inputs)\n",
        "    start_logits = outputs.start_logits\n",
        "    end_logits = outputs.end_logits\n",
        "\n",
        "    # Get the positions with the highest scores for start and end\n",
        "    start_index = torch.argmax(start_logits)\n",
        "    end_index = torch.argmax(end_logits) + 1  # Add 1 because we are dealing with inclusive end indexing\n",
        "\n",
        "    # If the start and end index are the same, it suggests that no valid answer was found\n",
        "    if start_index == end_index or similarities[most_relevant_idx] < 0.3:\n",
        "        print(f\"Question: {question}\")\n",
        "        print(\"Sorry, I couldn't find the answer.\\n\")\n",
        "    else:\n",
        "        # Convert the token ids to string to extract the answer\n",
        "        answer = tokenizer.convert_tokens_to_string(tokenizer.convert_ids_to_tokens(input_ids[start_index:end_index]))\n",
        "\n",
        "        # Output the question, retrieved passage, and predicted answer\n",
        "        print(f\"Question: {question}\")\n",
        "        print(f\"Retrieved Passage: {passage}\")\n",
        "        print(f\"Answer: {answer}\\n\")\n"
      ]
    }
  ]
}